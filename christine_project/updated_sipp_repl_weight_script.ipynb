{
 "cells": [
  {
   "cell_type": "code",
   "execution_count": 1,
   "metadata": {},
   "outputs": [],
   "source": [
    "##------------------Import Libraries --------------------------##\n",
    "import pandas as pd\n",
    "import numpy as np\n",
    "import seaborn as sns\n",
    "import matplotlib.pyplot as plt\n",
    "from sklearn.linear_model import LinearRegression\n",
    "from sklearn.metrics import mean_squared_error\n",
    "from sklearn.model_selection import train_test_split"
   ]
  },
  {
   "cell_type": "code",
   "execution_count": 2,
   "metadata": {},
   "outputs": [],
   "source": [
    "##------------------Read Data----------------------------------##\n",
    "file_path = 'SIPP_analysis_data.xlsx'\n",
    "data = pd.read_excel(file_path)"
   ]
  },
  {
   "cell_type": "code",
   "execution_count": 3,
   "metadata": {},
   "outputs": [
    {
     "data": {
      "text/html": [
       "<div>\n",
       "<style scoped>\n",
       "    .dataframe tbody tr th:only-of-type {\n",
       "        vertical-align: middle;\n",
       "    }\n",
       "\n",
       "    .dataframe tbody tr th {\n",
       "        vertical-align: top;\n",
       "    }\n",
       "\n",
       "    .dataframe thead th {\n",
       "        text-align: right;\n",
       "    }\n",
       "</style>\n",
       "<table border=\"1\" class=\"dataframe\">\n",
       "  <thead>\n",
       "    <tr style=\"text-align: right;\">\n",
       "      <th></th>\n",
       "      <th>unique_id</th>\n",
       "      <th>ssuid</th>\n",
       "      <th>repwgt0</th>\n",
       "      <th>repwgt1</th>\n",
       "      <th>repwgt2</th>\n",
       "      <th>repwgt3</th>\n",
       "      <th>repwgt4</th>\n",
       "      <th>repwgt5</th>\n",
       "      <th>repwgt6</th>\n",
       "      <th>repwgt7</th>\n",
       "      <th>...</th>\n",
       "      <th>unsecured_debt</th>\n",
       "      <th>unable_pay</th>\n",
       "      <th>mortgage_payment</th>\n",
       "      <th>asset_values</th>\n",
       "      <th>bachelors</th>\n",
       "      <th>years_since_movein</th>\n",
       "      <th>unemployed</th>\n",
       "      <th>out_lf</th>\n",
       "      <th>born_abroad</th>\n",
       "      <th>likely_retired</th>\n",
       "    </tr>\n",
       "  </thead>\n",
       "  <tbody>\n",
       "    <tr>\n",
       "      <th>0</th>\n",
       "      <td>1</td>\n",
       "      <td>11428546521</td>\n",
       "      <td>7426.116541</td>\n",
       "      <td>3272.646846</td>\n",
       "      <td>2984.807011</td>\n",
       "      <td>4144.434128</td>\n",
       "      <td>3603.779767</td>\n",
       "      <td>12749.500402</td>\n",
       "      <td>3534.087316</td>\n",
       "      <td>3677.640142</td>\n",
       "      <td>...</td>\n",
       "      <td>0</td>\n",
       "      <td>0</td>\n",
       "      <td>1390</td>\n",
       "      <td>430510</td>\n",
       "      <td>0</td>\n",
       "      <td>-140.416672</td>\n",
       "      <td>0</td>\n",
       "      <td>0</td>\n",
       "      <td>1</td>\n",
       "      <td>0</td>\n",
       "    </tr>\n",
       "    <tr>\n",
       "      <th>1</th>\n",
       "      <td>2</td>\n",
       "      <td>11428577022</td>\n",
       "      <td>9260.630659</td>\n",
       "      <td>17036.969529</td>\n",
       "      <td>13129.978967</td>\n",
       "      <td>13180.834760</td>\n",
       "      <td>15801.090740</td>\n",
       "      <td>4445.420139</td>\n",
       "      <td>12091.404756</td>\n",
       "      <td>12781.709130</td>\n",
       "      <td>...</td>\n",
       "      <td>40300</td>\n",
       "      <td>1</td>\n",
       "      <td>1300</td>\n",
       "      <td>41732</td>\n",
       "      <td>0</td>\n",
       "      <td>-163.166672</td>\n",
       "      <td>0</td>\n",
       "      <td>0</td>\n",
       "      <td>0</td>\n",
       "      <td>0</td>\n",
       "    </tr>\n",
       "    <tr>\n",
       "      <th>2</th>\n",
       "      <td>3</td>\n",
       "      <td>11481674622</td>\n",
       "      <td>4837.305089</td>\n",
       "      <td>8031.548547</td>\n",
       "      <td>8130.963960</td>\n",
       "      <td>7984.299255</td>\n",
       "      <td>7644.212702</td>\n",
       "      <td>2273.861069</td>\n",
       "      <td>7101.412235</td>\n",
       "      <td>7670.058779</td>\n",
       "      <td>...</td>\n",
       "      <td>20000</td>\n",
       "      <td>0</td>\n",
       "      <td>500</td>\n",
       "      <td>169050</td>\n",
       "      <td>1</td>\n",
       "      <td>-130.666672</td>\n",
       "      <td>0</td>\n",
       "      <td>1</td>\n",
       "      <td>0</td>\n",
       "      <td>1</td>\n",
       "    </tr>\n",
       "    <tr>\n",
       "      <th>3</th>\n",
       "      <td>4</td>\n",
       "      <td>12889229422</td>\n",
       "      <td>9638.013075</td>\n",
       "      <td>16219.670390</td>\n",
       "      <td>13163.080201</td>\n",
       "      <td>12818.263387</td>\n",
       "      <td>12173.747482</td>\n",
       "      <td>13922.769296</td>\n",
       "      <td>5538.784662</td>\n",
       "      <td>14840.845358</td>\n",
       "      <td>...</td>\n",
       "      <td>0</td>\n",
       "      <td>0</td>\n",
       "      <td>0</td>\n",
       "      <td>6880</td>\n",
       "      <td>0</td>\n",
       "      <td>-165.333328</td>\n",
       "      <td>0</td>\n",
       "      <td>0</td>\n",
       "      <td>0</td>\n",
       "      <td>0</td>\n",
       "    </tr>\n",
       "    <tr>\n",
       "      <th>4</th>\n",
       "      <td>5</td>\n",
       "      <td>13309398822</td>\n",
       "      <td>5190.990802</td>\n",
       "      <td>8106.156293</td>\n",
       "      <td>7452.235473</td>\n",
       "      <td>9004.767596</td>\n",
       "      <td>2426.520981</td>\n",
       "      <td>2555.204602</td>\n",
       "      <td>7252.986835</td>\n",
       "      <td>9276.875285</td>\n",
       "      <td>...</td>\n",
       "      <td>15000</td>\n",
       "      <td>0</td>\n",
       "      <td>1200</td>\n",
       "      <td>400</td>\n",
       "      <td>0</td>\n",
       "      <td>NaN</td>\n",
       "      <td>0</td>\n",
       "      <td>1</td>\n",
       "      <td>0</td>\n",
       "      <td>0</td>\n",
       "    </tr>\n",
       "  </tbody>\n",
       "</table>\n",
       "<p>5 rows × 324 columns</p>\n",
       "</div>"
      ],
      "text/plain": [
       "   unique_id        ssuid      repwgt0       repwgt1       repwgt2  \\\n",
       "0          1  11428546521  7426.116541   3272.646846   2984.807011   \n",
       "1          2  11428577022  9260.630659  17036.969529  13129.978967   \n",
       "2          3  11481674622  4837.305089   8031.548547   8130.963960   \n",
       "3          4  12889229422  9638.013075  16219.670390  13163.080201   \n",
       "4          5  13309398822  5190.990802   8106.156293   7452.235473   \n",
       "\n",
       "        repwgt3       repwgt4       repwgt5       repwgt6       repwgt7  ...  \\\n",
       "0   4144.434128   3603.779767  12749.500402   3534.087316   3677.640142  ...   \n",
       "1  13180.834760  15801.090740   4445.420139  12091.404756  12781.709130  ...   \n",
       "2   7984.299255   7644.212702   2273.861069   7101.412235   7670.058779  ...   \n",
       "3  12818.263387  12173.747482  13922.769296   5538.784662  14840.845358  ...   \n",
       "4   9004.767596   2426.520981   2555.204602   7252.986835   9276.875285  ...   \n",
       "\n",
       "   unsecured_debt  unable_pay  mortgage_payment  asset_values  bachelors  \\\n",
       "0               0           0              1390        430510          0   \n",
       "1           40300           1              1300         41732          0   \n",
       "2           20000           0               500        169050          1   \n",
       "3               0           0                 0          6880          0   \n",
       "4           15000           0              1200           400          0   \n",
       "\n",
       "   years_since_movein  unemployed  out_lf  born_abroad  likely_retired  \n",
       "0         -140.416672           0       0            1               0  \n",
       "1         -163.166672           0       0            0               0  \n",
       "2         -130.666672           0       1            0               1  \n",
       "3         -165.333328           0       0            0               0  \n",
       "4                 NaN           0       1            0               0  \n",
       "\n",
       "[5 rows x 324 columns]"
      ]
     },
     "execution_count": 3,
     "metadata": {},
     "output_type": "execute_result"
    }
   ],
   "source": [
    "data.head()"
   ]
  },
  {
   "cell_type": "code",
   "execution_count": 4,
   "metadata": {},
   "outputs": [
    {
     "data": {
      "text/plain": [
       "unique_id                0\n",
       "ssuid                    0\n",
       "repwgt0                  0\n",
       "repwgt1                  0\n",
       "repwgt2                  0\n",
       "                      ... \n",
       "years_since_movein    2747\n",
       "unemployed               0\n",
       "out_lf                   0\n",
       "born_abroad              0\n",
       "likely_retired           0\n",
       "Length: 324, dtype: int64"
      ]
     },
     "execution_count": 4,
     "metadata": {},
     "output_type": "execute_result"
    }
   ],
   "source": [
    "data.isnull().sum()"
   ]
  },
  {
   "cell_type": "code",
   "execution_count": 5,
   "metadata": {},
   "outputs": [],
   "source": [
    "data = data.drop('years_since_movein', axis=1)"
   ]
  },
  {
   "cell_type": "code",
   "execution_count": 7,
   "metadata": {},
   "outputs": [],
   "source": [
    "###----------------------split numerical and categorical data--------------------------------------###\n",
    "num_column = data.select_dtypes(include=['int64', 'float64'])\n",
    "cat_column = data.select_dtypes(include='object')"
   ]
  },
  {
   "cell_type": "markdown",
   "metadata": {},
   "source": [
    "#### Data Preparation\n",
    "\n",
    "Worked on a better method to filter out the replicate weight to properly align rows"
   ]
  },
  {
   "cell_type": "code",
   "execution_count": 8,
   "metadata": {},
   "outputs": [
    {
     "data": {
      "text/html": [
       "<div>\n",
       "<style scoped>\n",
       "    .dataframe tbody tr th:only-of-type {\n",
       "        vertical-align: middle;\n",
       "    }\n",
       "\n",
       "    .dataframe tbody tr th {\n",
       "        vertical-align: top;\n",
       "    }\n",
       "\n",
       "    .dataframe thead th {\n",
       "        text-align: right;\n",
       "    }\n",
       "</style>\n",
       "<table border=\"1\" class=\"dataframe\">\n",
       "  <thead>\n",
       "    <tr style=\"text-align: right;\">\n",
       "      <th></th>\n",
       "      <th>unique_id</th>\n",
       "      <th>ssuid</th>\n",
       "      <th>repwgt0</th>\n",
       "      <th>repwgt1</th>\n",
       "      <th>repwgt2</th>\n",
       "      <th>repwgt3</th>\n",
       "      <th>repwgt4</th>\n",
       "      <th>repwgt5</th>\n",
       "      <th>repwgt6</th>\n",
       "      <th>repwgt7</th>\n",
       "      <th>...</th>\n",
       "      <th>secured_debt</th>\n",
       "      <th>unsecured_debt</th>\n",
       "      <th>unable_pay</th>\n",
       "      <th>mortgage_payment</th>\n",
       "      <th>asset_values</th>\n",
       "      <th>bachelors</th>\n",
       "      <th>unemployed</th>\n",
       "      <th>out_lf</th>\n",
       "      <th>born_abroad</th>\n",
       "      <th>likely_retired</th>\n",
       "    </tr>\n",
       "  </thead>\n",
       "  <tbody>\n",
       "    <tr>\n",
       "      <th>0</th>\n",
       "      <td>1</td>\n",
       "      <td>11428546521</td>\n",
       "      <td>7426.116541</td>\n",
       "      <td>3272.646846</td>\n",
       "      <td>2984.807011</td>\n",
       "      <td>4144.434128</td>\n",
       "      <td>3603.779767</td>\n",
       "      <td>12749.500402</td>\n",
       "      <td>3534.087316</td>\n",
       "      <td>3677.640142</td>\n",
       "      <td>...</td>\n",
       "      <td>409000</td>\n",
       "      <td>0</td>\n",
       "      <td>0</td>\n",
       "      <td>1390</td>\n",
       "      <td>430510</td>\n",
       "      <td>0</td>\n",
       "      <td>0</td>\n",
       "      <td>0</td>\n",
       "      <td>1</td>\n",
       "      <td>0</td>\n",
       "    </tr>\n",
       "    <tr>\n",
       "      <th>1</th>\n",
       "      <td>2</td>\n",
       "      <td>11428577022</td>\n",
       "      <td>9260.630659</td>\n",
       "      <td>17036.969529</td>\n",
       "      <td>13129.978967</td>\n",
       "      <td>13180.834760</td>\n",
       "      <td>15801.090740</td>\n",
       "      <td>4445.420139</td>\n",
       "      <td>12091.404756</td>\n",
       "      <td>12781.709130</td>\n",
       "      <td>...</td>\n",
       "      <td>0</td>\n",
       "      <td>40300</td>\n",
       "      <td>1</td>\n",
       "      <td>1300</td>\n",
       "      <td>41732</td>\n",
       "      <td>0</td>\n",
       "      <td>0</td>\n",
       "      <td>0</td>\n",
       "      <td>0</td>\n",
       "      <td>0</td>\n",
       "    </tr>\n",
       "    <tr>\n",
       "      <th>2</th>\n",
       "      <td>3</td>\n",
       "      <td>11481674622</td>\n",
       "      <td>4837.305089</td>\n",
       "      <td>8031.548547</td>\n",
       "      <td>8130.963960</td>\n",
       "      <td>7984.299255</td>\n",
       "      <td>7644.212702</td>\n",
       "      <td>2273.861069</td>\n",
       "      <td>7101.412235</td>\n",
       "      <td>7670.058779</td>\n",
       "      <td>...</td>\n",
       "      <td>0</td>\n",
       "      <td>20000</td>\n",
       "      <td>0</td>\n",
       "      <td>500</td>\n",
       "      <td>169050</td>\n",
       "      <td>1</td>\n",
       "      <td>0</td>\n",
       "      <td>1</td>\n",
       "      <td>0</td>\n",
       "      <td>1</td>\n",
       "    </tr>\n",
       "    <tr>\n",
       "      <th>3</th>\n",
       "      <td>4</td>\n",
       "      <td>12889229422</td>\n",
       "      <td>9638.013075</td>\n",
       "      <td>16219.670390</td>\n",
       "      <td>13163.080201</td>\n",
       "      <td>12818.263387</td>\n",
       "      <td>12173.747482</td>\n",
       "      <td>13922.769296</td>\n",
       "      <td>5538.784662</td>\n",
       "      <td>14840.845358</td>\n",
       "      <td>...</td>\n",
       "      <td>0</td>\n",
       "      <td>0</td>\n",
       "      <td>0</td>\n",
       "      <td>0</td>\n",
       "      <td>6880</td>\n",
       "      <td>0</td>\n",
       "      <td>0</td>\n",
       "      <td>0</td>\n",
       "      <td>0</td>\n",
       "      <td>0</td>\n",
       "    </tr>\n",
       "    <tr>\n",
       "      <th>4</th>\n",
       "      <td>5</td>\n",
       "      <td>13309398822</td>\n",
       "      <td>5190.990802</td>\n",
       "      <td>8106.156293</td>\n",
       "      <td>7452.235473</td>\n",
       "      <td>9004.767596</td>\n",
       "      <td>2426.520981</td>\n",
       "      <td>2555.204602</td>\n",
       "      <td>7252.986835</td>\n",
       "      <td>9276.875285</td>\n",
       "      <td>...</td>\n",
       "      <td>0</td>\n",
       "      <td>15000</td>\n",
       "      <td>0</td>\n",
       "      <td>1200</td>\n",
       "      <td>400</td>\n",
       "      <td>0</td>\n",
       "      <td>0</td>\n",
       "      <td>1</td>\n",
       "      <td>0</td>\n",
       "      <td>0</td>\n",
       "    </tr>\n",
       "  </tbody>\n",
       "</table>\n",
       "<p>5 rows × 317 columns</p>\n",
       "</div>"
      ],
      "text/plain": [
       "   unique_id        ssuid      repwgt0       repwgt1       repwgt2  \\\n",
       "0          1  11428546521  7426.116541   3272.646846   2984.807011   \n",
       "1          2  11428577022  9260.630659  17036.969529  13129.978967   \n",
       "2          3  11481674622  4837.305089   8031.548547   8130.963960   \n",
       "3          4  12889229422  9638.013075  16219.670390  13163.080201   \n",
       "4          5  13309398822  5190.990802   8106.156293   7452.235473   \n",
       "\n",
       "        repwgt3       repwgt4       repwgt5       repwgt6       repwgt7  ...  \\\n",
       "0   4144.434128   3603.779767  12749.500402   3534.087316   3677.640142  ...   \n",
       "1  13180.834760  15801.090740   4445.420139  12091.404756  12781.709130  ...   \n",
       "2   7984.299255   7644.212702   2273.861069   7101.412235   7670.058779  ...   \n",
       "3  12818.263387  12173.747482  13922.769296   5538.784662  14840.845358  ...   \n",
       "4   9004.767596   2426.520981   2555.204602   7252.986835   9276.875285  ...   \n",
       "\n",
       "   secured_debt  unsecured_debt  unable_pay  mortgage_payment  asset_values  \\\n",
       "0        409000               0           0              1390        430510   \n",
       "1             0           40300           1              1300         41732   \n",
       "2             0           20000           0               500        169050   \n",
       "3             0               0           0                 0          6880   \n",
       "4             0           15000           0              1200           400   \n",
       "\n",
       "   bachelors  unemployed  out_lf  born_abroad  likely_retired  \n",
       "0          0           0       0            1               0  \n",
       "1          0           0       0            0               0  \n",
       "2          1           0       1            0               1  \n",
       "3          0           0       0            0               0  \n",
       "4          0           0       1            0               0  \n",
       "\n",
       "[5 rows x 317 columns]"
      ]
     },
     "execution_count": 8,
     "metadata": {},
     "output_type": "execute_result"
    }
   ],
   "source": [
    "num_column.head()"
   ]
  },
  {
   "cell_type": "code",
   "execution_count": 9,
   "metadata": {},
   "outputs": [
    {
     "data": {
      "text/plain": [
       "unique_id         0\n",
       "ssuid             0\n",
       "repwgt0           0\n",
       "repwgt1           0\n",
       "repwgt2           0\n",
       "                 ..\n",
       "bachelors         0\n",
       "unemployed        0\n",
       "out_lf            0\n",
       "born_abroad       0\n",
       "likely_retired    0\n",
       "Length: 317, dtype: int64"
      ]
     },
     "execution_count": 9,
     "metadata": {},
     "output_type": "execute_result"
    }
   ],
   "source": [
    "num_column.isnull().sum()"
   ]
  },
  {
   "cell_type": "code",
   "execution_count": 10,
   "metadata": {},
   "outputs": [],
   "source": [
    "###--------------------find features-----------------------------###\n",
    "# Assuming that our target variable is 'asset_values'\n",
    "# this is only to showcase how to model the replicate weights\n",
    "target = 'asset_values'\n",
    "repl_weights = [col for col in num_column.columns if 'repwgt' in col]\n",
    "features =  [col for col in num_column.columns if col not in repl_weights and col != target and 'area_state' not in col]"
   ]
  },
  {
   "cell_type": "code",
   "execution_count": 11,
   "metadata": {},
   "outputs": [
    {
     "name": "stdout",
     "output_type": "stream",
     "text": [
      "Baseline Model MSE: 1.3619245732091876e-17\n",
      "Model Coefficients: [ 8.36045858e-15  8.27180613e-25  5.24943158e-14  1.00000000e+00\n",
      "  0.00000000e+00 -8.62624972e-16  5.07694077e-13 -5.17836841e-12\n",
      "  3.22429557e-12 -1.26186026e-11  1.29309160e-10  4.98543644e-16\n",
      "  3.25362982e-16  2.37011237e-16  1.41619216e-15  1.00000000e+00\n",
      "  1.00000000e+00  4.59098527e-12 -3.15066900e-17  2.11580761e-11\n",
      "  7.79448002e-12 -1.37981622e-11 -2.91155665e-11 -2.45205092e-11]\n",
      "Intercept: 2.3283064365386963e-10\n"
     ]
    }
   ],
   "source": [
    "###-----------------Fit data on Primary Weight-----------------###\n",
    "###-------------------Primary Weights---------------------------###\n",
    "primary_weight = 'wpfinwgt'\n",
    "X = num_column[features]\n",
    "y = num_column[target]\n",
    "sample_weight = num_column[primary_weight]\n",
    "\n",
    "###------------------Split Data-------------------------------###\n",
    "X_train, X_test, y_train, y_test, weights_train, weights_test = train_test_split(X, y, sample_weight, test_size=0.3, random_state=42)\n",
    "\n",
    "model = LinearRegression()\n",
    "\"Extra Coding process needed if doing cross-validation, or other hyperparametization\"\n",
    "\"Might have to make process changes based on a different model.\"\n",
    "model.fit(X_train, y_train, sample_weight=weights_train)\n",
    "\n",
    "# Evaluate the model\n",
    "# predict on the test set\n",
    "baseline_predictions = model.predict(X_test)\n",
    "baseline_mse = mean_squared_error(y_test, baseline_predictions)\n",
    "\n",
    "print(f'Baseline Model MSE: {baseline_mse}')\n",
    "print(f'Model Coefficients: {model.coef_}')\n",
    "print(f'Intercept: {model.intercept_}')"
   ]
  },
  {
   "cell_type": "markdown",
   "metadata": {},
   "source": [
    "#### Extract Replicate Weights AND Values\n",
    "This method extract the weights and values to optimally help us train the weights and X and Y values simultaneously."
   ]
  },
  {
   "cell_type": "code",
   "execution_count": 12,
   "metadata": {},
   "outputs": [],
   "source": [
    "repl_weights_columns = [f\"repwgt{i}\" for i in range(1, 241)]\n",
    "replicate_weights = num_column[repl_weights_columns]"
   ]
  },
  {
   "cell_type": "code",
   "execution_count": 13,
   "metadata": {},
   "outputs": [
    {
     "name": "stdout",
     "output_type": "stream",
     "text": [
      "X shape: (17438, 24)\n",
      "replicate_weights: (17438, 240)\n"
     ]
    }
   ],
   "source": [
    "###-----------------------Check Shapes---------------------####\n",
    "### Check Shapes of X and repl_weights\n",
    "print(f\"X shape: {X.shape}\")\n",
    "print(f\"replicate_weights: {(replicate_weights).shape}\")"
   ]
  },
  {
   "cell_type": "code",
   "execution_count": 14,
   "metadata": {},
   "outputs": [],
   "source": [
    "###--------------------------Train and Test Replicate Weights alongside the X and Y Values--------------------------------------###\n",
    "X_train, X_test, y_train, y_test, weights_train, weights_test = train_test_split(X, y, replicate_weights, test_size=0.3, random_state=42)"
   ]
  },
  {
   "cell_type": "code",
   "execution_count": 22,
   "metadata": {},
   "outputs": [],
   "source": [
    "###----------------------Due to Multiple replicate weights per sample (10/sample to be precise) we could average them to prevent-----------###\n",
    "###----------------------1D or Scalar Error---------------------------###\n",
    "weights_train = weights_train.mean(axis=1)"
   ]
  },
  {
   "cell_type": "code",
   "execution_count": 18,
   "metadata": {},
   "outputs": [
    {
     "data": {
      "text/plain": [
       "(12206, 240)"
      ]
     },
     "execution_count": 18,
     "metadata": {},
     "output_type": "execute_result"
    }
   ],
   "source": [
    "weights_train.shape\n"
   ]
  },
  {
   "cell_type": "code",
   "execution_count": 21,
   "metadata": {},
   "outputs": [
    {
     "data": {
      "text/plain": [
       "(12206, 24)"
      ]
     },
     "execution_count": 21,
     "metadata": {},
     "output_type": "execute_result"
    }
   ],
   "source": [
    "X_train.shape"
   ]
  },
  {
   "cell_type": "code",
   "execution_count": 23,
   "metadata": {},
   "outputs": [],
   "source": [
    "###-----------------Fit on Replicate Weights-----------------------###\n",
    "repl_prod = []\n",
    "model.fit(X_train, y_train, sample_weight=weights_train)\n",
    "predictions = model.predict(X_test)\n",
    "repl_prod.append(predictions)"
   ]
  },
  {
   "cell_type": "code",
   "execution_count": 24,
   "metadata": {},
   "outputs": [
    {
     "name": "stdout",
     "output_type": "stream",
     "text": [
      "mean_squared_error: 1.1049669288079574e-17\n"
     ]
    }
   ],
   "source": [
    "###------------------Evaluate Model-----------------------------###\n",
    "mse = mean_squared_error(y_test, predictions)\n",
    "print(f\"mean_squared_error: {mse}\")"
   ]
  },
  {
   "cell_type": "code",
   "execution_count": 28,
   "metadata": {},
   "outputs": [
    {
     "name": "stdout",
     "output_type": "stream",
     "text": [
      "Average Predictions for replicate weights: \n",
      "860479.2824923544\n"
     ]
    }
   ],
   "source": [
    "# calculate variance across replicate predictions\n",
    "prediction_variance = np.var(repl_prod)\n",
    "# Average predictions across replicate models for final estimate.\n",
    "final_predictions = np.mean(repl_prod)\n",
    "\n",
    "print(f'Average Predictions for replicate weights: \\n{final_predictions}')"
   ]
  },
  {
   "cell_type": "code",
   "execution_count": null,
   "metadata": {},
   "outputs": [],
   "source": []
  }
 ],
 "metadata": {
  "kernelspec": {
   "display_name": "base",
   "language": "python",
   "name": "python3"
  },
  "language_info": {
   "codemirror_mode": {
    "name": "ipython",
    "version": 3
   },
   "file_extension": ".py",
   "mimetype": "text/x-python",
   "name": "python",
   "nbconvert_exporter": "python",
   "pygments_lexer": "ipython3",
   "version": "3.12.7"
  }
 },
 "nbformat": 4,
 "nbformat_minor": 2
}
